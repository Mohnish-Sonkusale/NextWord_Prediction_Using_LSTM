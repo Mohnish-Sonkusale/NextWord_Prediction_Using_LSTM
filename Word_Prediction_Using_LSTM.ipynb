{
  "cells": [
    {
      "cell_type": "code",
      "execution_count": 32,
      "metadata": {
        "colab": {
          "base_uri": "https://localhost:8080/"
        },
        "id": "aUon9OYt9y1V",
        "outputId": "be712750-a0ab-4309-cb9c-e19be64ab14e"
      },
      "outputs": [
        {
          "name": "stdout",
          "output_type": "stream",
          "text": [
            "2.14.0\n"
          ]
        }
      ],
      "source": [
        "print(tf.__version__)"
      ]
    },
    {
      "cell_type": "code",
      "execution_count": 2,
      "metadata": {
        "id": "IlwVEVtfqCUP"
      },
      "outputs": [],
      "source": [
        "import numpy as np\n",
        "import tensorflow as tf\n",
        "from tensorflow.keras.preprocessing.text import Tokenizer\n",
        "from tensorflow.keras.preprocessing.sequence import pad_sequences\n",
        "from tensorflow.keras.models import Sequential\n",
        "from tensorflow.keras.layers import Embedding, LSTM, Dense"
      ]
    },
    {
      "cell_type": "code",
      "execution_count": 5,
      "metadata": {
        "colab": {
          "base_uri": "https://localhost:8080/",
          "height": 139
        },
        "id": "-eSMVv4yqkwz",
        "outputId": "b6b92196-8446-4939-8f1e-53cdc54bb01a"
      },
      "outputs": [
        {
          "data": {
            "application/vnd.google.colaboratory.intrinsic+json": {
              "type": "string"
            },
            "text/plain": [
              "'Good Morning\\n\\nFollowing a lavish state visit by Indian Prime Minister Narendra Modi to Washington, US President Joe Biden has called his country\\'s partnership with India among the \"most consequential in the world\". The BBC\\'s Vikas Pandey and Soutik Biswas explore the factors that contribute to the visit\\'s potential in strengthening the ties between the two nations.\\n\\nThe US\\'s relationship with India - the world\\'s most populous country - is \"stronger, closer and more dynamic than any time in history\", Mr Biden said at the completion of a pomp-filled state visit by Mr Modi to the White House.\\n\\nThe remark may not be an exaggeration. \"This summit suggests that the relationship has been transformed. It underscores just how broad and deep it has become in a relatively short time,\" says Michael Kugelman of The Wilson Center, an American think-tank.\\n\\nA key reason is that Washington is keen to draw India closer so that it can act as a counterbalance to China\\'s growing influence in the Indo-Pacific. India-US ties had not lived up to their promise following a landmark civilian nuclear deal in 2005 because a liability law passed by India three years later hobbled purchase of reactors.\\n\\n\"This followed a fading commitment to the relationship during [former prime minister] Manmohan Singh\\'s second term as the leader of a coalition government. With Mr Modi there has been a lot more enthusiasm about embracing the US. Mr Biden has also given an overall broad directive to make it work,\" says Seema Sirohi, author of Friends With Benefits: The India-US Story.\\n\\nMs Sirohi says the US put in a \"lot of effort to make Mr Modi\\'s visit substantive and have a lot of deliverables\". Defence-industrial cooperation and technology topped the list. Consider this:\\n\\nGeneral Electric and India\\'s state-owned Hindustan Aeronautics Limited will make in India advanced fighter jet engines for the country\\'s indigenous light combat aircraft. This means a \"greater transfer of US jet engine technology than ever before\" - a clear sign that Washington not only wants to sell arms to India but is also comfortable with sharing military technology.\\nIndia will proceed with a $3bn purchase of the battle-tested MQ-9B Predator drones from General Atomics, which will also set up a facility in India. The drones will be assembled in India, which fits into Mr Modi\\'s \\'Make in India\\' campaign. The US supplies only 11% of India\\'s arms - Russia is the biggest (45%) supplier - but hopes to become the primary provider in the coming years. Mr Kugelman says Washington\\'s immediate goal is to \"strengthen India\\'s military capacity to counter China\".\\nMr Modi wants to make India a semiconductor base. US memory chip giant Micron Technology will invest up to $825m to build a semiconductor assembly and test facility in India, creating thousands of jobs.\\nUS semiconductor equipment maker Lam Research will train 60,000 Indian engineers through a network of interconnected labs and research centres to speed up India\\'s semiconductor education and workforce development. Also Applied Materials, the biggest maker of machines for producing semiconductors, will invest $400m to establish an engineering centre in India.\\n\"It is all about the future now. Both sides are talking about cutting-edge technologies and how to seed and shape the future,\" says Ms Sirohi.\\n\\n: U.S. President Joe Biden and first lady Jill Biden welcome India Prime Minister Narendra Modi to the White House on June 21, 2023 in Washington, DC\\nMr Biden and Mrs Biden welcome Mr Modi to the White House\\nThe India-US relationship has seen many ups and downs since the US seriously began courting India - first under President Bill Clinton and then under the George Bush administration. The response from India was measured, never overeager or too forthcoming.\\n\\nThe reason was the way India saw geopolitics and its own place in the global order. The strategy of nonalignment, started by India\\'s first prime minister Jawaharlal Nehru, has always been deeply rooted into India\\'s foreign policy.\\n\\nIndia never wanted to be seen in one camp or the other, or to be seen as junior strategic partner to a global superpower. Mr Modi has not left the ideals of what some describe as \"strategic altruism\" in Indian foreign policy.\\n\\nBut Mr Modi is leading a different kind of India, one which has considerably more economic and geopolitical heft. He has owned the India-US relations - he formed close bonds with former presidents Barack Obama and Donald Trump and now with Mr Biden.\\n\\nBut India\\'s \"strategic autonomy\" has not been sacrificed. Washington would have wanted India to go a step further on Russia and probably take a harder public stand on China.\\n\\nBut the Biden administration didn\\'t seem disappointed as Mr Modi repeated his line that \"this was not the era of war\" without mentioning Russia. The Indian prime minister did speak about the importance of beefing up humanitarian assistance to Ukraine. He didn\\'t mention China by name either but did talk about the importance of a free and prosperous Indo-Pacific.\\n\\nThis is how far Mr Modi could have pushed his administration\\'s policy without compromising on strategic autonomy. It may not have been the ideal way for Washington but it didn\\'t come in the way of making Mr Modi\\'s visit a success.\\n\\nThe United States Air Force (USAF) and Indian Air Force (IAF) personnel are posing in front of a United States Air Force (USAF) F-15 Eagle fighter jet during the joint \\'Exercise Cope India 2023\\' at the air force station in Kalaikunda, around 170 km west of Kolkata, on April 24th, 2023. \\nUS and Indian air force personnel pose in front of a US fighter jet during a joint exercise in India in April\\n\"The two militaries are working more closely together. They now have arrangements in place where they could use each other\\'s facilities for refuelling and maintenance purposes. They are holding joint exercises and they\\'re sharing a lot more intelligence. Credit to Mr Modi for managing to really test the limits of strategic autonomy. In the sense that he is getting about as close as you can to a major power without signing on to a full-fledged alliance,\" Mr Kugelman says.\\n\\nIndia and the US have had major trade differences in recent years over tariffs. Trade relations particularly suffered during the Trump administration.\\n\\nThe two sides were not expected to announce anything major in trade as it was understood that the discussions over that could continue later without overshadowing the visit.\\n\\nBut surprisingly, the two sides announced that six separate trade disputes at the World Trade Organization were resolved, including one that involved tariffs.\\n\\nThe US is now India\\'s top trading partner at $130bn in goods and Delhi is Washington\\'s eighth largest partner. While these numbers are impressive, analysts and policymakers feel there is a huge untapped potential. India is also a burgeoning market with an expanding middle class and it\\'s been positioning itself as an alternative to China to become a manufacturing hub for the world.\\n\\nPresident Joe Biden and Indian Prime Minister Narendra Modi participate in an arrival ceremony on the South Lawn of the White House on Thursday, June 22, 2023 in Washington, DC. President Biden is the first U.S. President to invite Prime Minister Modi for an official state visit\\nSome 2.7 million Indians live in the US\\nMany global firms and nations are interested in the proposal as they look to free the global supply chain from China\\'s dominance. In that context, the resolution of trade disputes will give further impetus to unlocking the full potential of India-US trade ties. Mr Modi has said that \"even sky is not the limit (for India-US) ties\".\\n\\nCritics in Washington have questioned India\\'s \"democratic backsliding\" under Mr Modi and his Hindu nationalist Bharatiya Janata Party (BJP). Mr Obama, in a television interview this week, emphasised the significance of addressing the \"protection of the Muslim minority in a predominantly Hindu India\" during discussions between Mr Biden and Mr Modi. \"The progressives in the Democratic Party are disturbed by what is happening in India. The realists and centrists are all for strengthening the relationship because of the China factor,\" says Ms Sirohi.\\n\\nBut on the whole, there is a bipartisan agreement to make the relationship deeper and broader. \"The India-US strategic partnership has certainly moved to the next level. It\\'s one of mutual need and mutual benefit,\" says Ms Sirohi.'"
            ]
          },
          "execution_count": 5,
          "metadata": {},
          "output_type": "execute_result"
        }
      ],
      "source": [
        "# Reading corpus the text file\n",
        "with open(\"file_path_of_data\", 'r', encoding='utf-8') as myfile:\n",
        "    mytext = myfile.read()\n",
        "mytext"
      ]
    },
    {
      "cell_type": "code",
      "execution_count": 6,
      "metadata": {
        "id": "9WPaKMSEqk5a"
      },
      "outputs": [],
      "source": [
        "mytokenizer = Tokenizer()\n",
        "mytokenizer.fit_on_texts([mytext])\n",
        "total_words = len(mytokenizer.word_index) + 1"
      ]
    },
    {
      "cell_type": "code",
      "execution_count": null,
      "metadata": {
        "id": "zAglrcAzqlBJ"
      },
      "outputs": [],
      "source": [
        "mytokenizer.word_index"
      ]
    },
    {
      "cell_type": "code",
      "execution_count": 9,
      "metadata": {
        "id": "FAdekegqqlKE"
      },
      "outputs": [],
      "source": [
        "my_input_sequences = []\n",
        "for line in mytext.split('\\n'):\n",
        "    #print(line)\n",
        "    token_list = mytokenizer.texts_to_sequences([line])[0]\n",
        "    #print(token_list)\n",
        "    for i in range(1, len(token_list)):\n",
        "        my_n_gram_sequence = token_list[:i+1]\n",
        "        #print(my_n_gram_sequence)\n",
        "        my_input_sequences.append(my_n_gram_sequence)\n",
        "        #print(input_sequences)"
      ]
    },
    {
      "cell_type": "code",
      "execution_count": 10,
      "metadata": {
        "id": "16A89jsFqlSD"
      },
      "outputs": [],
      "source": [
        "max_sequence_len = max([len(seq) for seq in my_input_sequences])\n",
        "input_sequences = np.array(pad_sequences(my_input_sequences, maxlen=max_sequence_len, padding='pre'))"
      ]
    },
    {
      "cell_type": "code",
      "execution_count": 11,
      "metadata": {
        "colab": {
          "base_uri": "https://localhost:8080/"
        },
        "id": "0YbUl6J5qlZU",
        "outputId": "67eacb3f-846b-417a-f053-171c204e8e79"
      },
      "outputs": [
        {
          "data": {
            "text/plain": [
              "array([  0,   0,   0,   0,   0,   0,   0,   0,   0,   0,   0,   0,   0,\n",
              "         0,   0,   0,   0,   0,   0,   0,   0,   0,   0,   0,   0,   0,\n",
              "         0,   0,   0,   0,   0,   0,   0,   0,   0,   0,   0,   0,   0,\n",
              "         0,   0,   0,   0,   0,   0,   0,   0,   0,   0,   0,   0,   0,\n",
              "         0,   0,   0,   0,   0,   0,   0,   0,   0,   0,   0,   0,   0,\n",
              "         0,   0,   0,   0,   0,   0,   0,   0,   0,   0,   0,   0,   0,\n",
              "         0,   0,   0, 177, 178], dtype=int32)"
            ]
          },
          "execution_count": 11,
          "metadata": {},
          "output_type": "execute_result"
        }
      ],
      "source": [
        "input_sequences[0]"
      ]
    },
    {
      "cell_type": "code",
      "execution_count": 12,
      "metadata": {
        "id": "vxE5aGMaroZX"
      },
      "outputs": [],
      "source": [
        "X = input_sequences[:, :-1]\n",
        "y = input_sequences[:, -1]"
      ]
    },
    {
      "cell_type": "code",
      "execution_count": 13,
      "metadata": {
        "id": "BMbf7i83rqf0"
      },
      "outputs": [],
      "source": [
        "y = np.array(tf.keras.utils.to_categorical(y, num_classes=total_words))"
      ]
    },
    {
      "cell_type": "code",
      "execution_count": 14,
      "metadata": {
        "colab": {
          "base_uri": "https://localhost:8080/"
        },
        "id": "hfKP7J6grwHP",
        "outputId": "6f1777a1-c52e-470a-9c98-ce49ddc972e8"
      },
      "outputs": [
        {
          "data": {
            "text/plain": [
              "array([0., 0., 0., 0., 0., 0., 0., 0., 0., 0., 0., 0., 0., 0., 0., 0., 0.,\n",
              "       0., 0., 0., 0., 0., 0., 0., 0., 0., 0., 0., 0., 0., 0., 0., 0., 0.,\n",
              "       0., 0., 0., 0., 0., 0., 0., 0., 0., 0., 0., 0., 0., 0., 0., 0., 0.,\n",
              "       0., 0., 0., 0., 0., 0., 0., 0., 0., 0., 0., 0., 0., 0., 0., 0., 0.,\n",
              "       0., 0., 0., 0., 0., 0., 0., 0., 0., 0., 0., 0., 0., 0., 0., 0., 0.,\n",
              "       0., 0., 0., 0., 0., 0., 0., 0., 0., 0., 0., 0., 0., 0., 0., 0., 0.,\n",
              "       0., 0., 0., 0., 0., 0., 0., 0., 0., 0., 0., 0., 0., 0., 0., 0., 0.,\n",
              "       0., 0., 0., 0., 0., 0., 0., 0., 0., 0., 0., 0., 0., 0., 0., 0., 0.,\n",
              "       0., 0., 0., 0., 0., 0., 0., 0., 0., 0., 0., 0., 0., 0., 0., 0., 0.,\n",
              "       0., 0., 0., 0., 0., 0., 0., 0., 0., 0., 0., 0., 0., 0., 0., 0., 0.,\n",
              "       0., 0., 0., 0., 0., 0., 0., 0., 1., 0., 0., 0., 0., 0., 0., 0., 0.,\n",
              "       0., 0., 0., 0., 0., 0., 0., 0., 0., 0., 0., 0., 0., 0., 0., 0., 0.,\n",
              "       0., 0., 0., 0., 0., 0., 0., 0., 0., 0., 0., 0., 0., 0., 0., 0., 0.,\n",
              "       0., 0., 0., 0., 0., 0., 0., 0., 0., 0., 0., 0., 0., 0., 0., 0., 0.,\n",
              "       0., 0., 0., 0., 0., 0., 0., 0., 0., 0., 0., 0., 0., 0., 0., 0., 0.,\n",
              "       0., 0., 0., 0., 0., 0., 0., 0., 0., 0., 0., 0., 0., 0., 0., 0., 0.,\n",
              "       0., 0., 0., 0., 0., 0., 0., 0., 0., 0., 0., 0., 0., 0., 0., 0., 0.,\n",
              "       0., 0., 0., 0., 0., 0., 0., 0., 0., 0., 0., 0., 0., 0., 0., 0., 0.,\n",
              "       0., 0., 0., 0., 0., 0., 0., 0., 0., 0., 0., 0., 0., 0., 0., 0., 0.,\n",
              "       0., 0., 0., 0., 0., 0., 0., 0., 0., 0., 0., 0., 0., 0., 0., 0., 0.,\n",
              "       0., 0., 0., 0., 0., 0., 0., 0., 0., 0., 0., 0., 0., 0., 0., 0., 0.,\n",
              "       0., 0., 0., 0., 0., 0., 0., 0., 0., 0., 0., 0., 0., 0., 0., 0., 0.,\n",
              "       0., 0., 0., 0., 0., 0., 0., 0., 0., 0., 0., 0., 0., 0., 0., 0., 0.,\n",
              "       0., 0., 0., 0., 0., 0., 0., 0., 0., 0., 0., 0., 0., 0., 0., 0., 0.,\n",
              "       0., 0., 0., 0., 0., 0., 0., 0., 0., 0., 0., 0., 0., 0., 0., 0., 0.,\n",
              "       0., 0., 0., 0., 0., 0., 0., 0., 0., 0., 0., 0., 0., 0., 0., 0., 0.,\n",
              "       0., 0., 0., 0., 0., 0., 0., 0., 0., 0., 0., 0., 0., 0., 0., 0., 0.,\n",
              "       0., 0., 0., 0., 0., 0., 0., 0., 0., 0., 0., 0., 0., 0., 0., 0., 0.,\n",
              "       0., 0., 0., 0., 0., 0., 0., 0., 0., 0., 0., 0., 0., 0., 0., 0., 0.,\n",
              "       0., 0., 0., 0., 0., 0., 0., 0., 0., 0., 0., 0., 0., 0., 0., 0., 0.,\n",
              "       0., 0., 0., 0., 0., 0., 0., 0., 0., 0., 0., 0., 0., 0., 0., 0., 0.,\n",
              "       0., 0., 0., 0., 0., 0., 0., 0., 0., 0., 0., 0., 0., 0., 0., 0., 0.,\n",
              "       0., 0., 0., 0., 0., 0., 0., 0., 0., 0., 0., 0., 0., 0., 0., 0., 0.,\n",
              "       0., 0., 0., 0., 0., 0., 0., 0., 0., 0., 0., 0., 0., 0., 0., 0., 0.,\n",
              "       0., 0., 0., 0., 0., 0., 0., 0., 0., 0., 0., 0., 0., 0., 0., 0., 0.,\n",
              "       0., 0., 0., 0., 0., 0.], dtype=float32)"
            ]
          },
          "execution_count": 14,
          "metadata": {},
          "output_type": "execute_result"
        }
      ],
      "source": [
        "y[0]"
      ]
    },
    {
      "cell_type": "code",
      "execution_count": 15,
      "metadata": {
        "colab": {
          "base_uri": "https://localhost:8080/"
        },
        "id": "PLkR_jDGryHe",
        "outputId": "fa2a2523-d6dd-4492-f75f-b9b0efc82fb6"
      },
      "outputs": [
        {
          "name": "stdout",
          "output_type": "stream",
          "text": [
            "Model: \"sequential\"\n",
            "_________________________________________________________________\n",
            " Layer (type)                Output Shape              Param #   \n",
            "=================================================================\n",
            " embedding (Embedding)       (None, 82, 100)           60100     \n",
            "                                                                 \n",
            " lstm (LSTM)                 (None, 150)               150600    \n",
            "                                                                 \n",
            " dense (Dense)               (None, 601)               90751     \n",
            "                                                                 \n",
            "=================================================================\n",
            "Total params: 301451 (1.15 MB)\n",
            "Trainable params: 301451 (1.15 MB)\n",
            "Non-trainable params: 0 (0.00 Byte)\n",
            "_________________________________________________________________\n",
            "None\n"
          ]
        }
      ],
      "source": [
        "model = Sequential()\n",
        "model.add(Embedding(total_words, 100, input_length=max_sequence_len-1))\n",
        "model.add(LSTM(150))\n",
        "model.add(Dense(total_words, activation='softmax'))\n",
        "print(model.summary())"
      ]
    },
    {
      "cell_type": "code",
      "execution_count": 16,
      "metadata": {
        "colab": {
          "base_uri": "https://localhost:8080/"
        },
        "id": "DrtZ6fUIr2P8",
        "outputId": "2bb48e3f-0246-4d67-ab49-a2272eeaac22"
      },
      "outputs": [
        {
          "name": "stdout",
          "output_type": "stream",
          "text": [
            "Epoch 1/50\n",
            "43/43 [==============================] - 10s 177ms/step - loss: 6.1866 - accuracy: 0.0430\n",
            "Epoch 2/50\n",
            "43/43 [==============================] - 6s 139ms/step - loss: 5.8059 - accuracy: 0.0576\n",
            "Epoch 3/50\n",
            "43/43 [==============================] - 7s 173ms/step - loss: 5.7235 - accuracy: 0.0576\n",
            "Epoch 4/50\n",
            "43/43 [==============================] - 6s 139ms/step - loss: 5.6702 - accuracy: 0.0576\n",
            "Epoch 5/50\n",
            "43/43 [==============================] - 9s 202ms/step - loss: 5.5883 - accuracy: 0.0576\n",
            "Epoch 6/50\n",
            "43/43 [==============================] - 7s 156ms/step - loss: 5.4936 - accuracy: 0.0576\n",
            "Epoch 7/50\n",
            "43/43 [==============================] - 7s 156ms/step - loss: 5.3807 - accuracy: 0.0641\n",
            "Epoch 8/50\n",
            "43/43 [==============================] - 7s 168ms/step - loss: 5.2320 - accuracy: 0.0831\n",
            "Epoch 9/50\n",
            "43/43 [==============================] - 6s 144ms/step - loss: 5.0419 - accuracy: 0.0911\n",
            "Epoch 10/50\n",
            "43/43 [==============================] - 8s 177ms/step - loss: 4.8168 - accuracy: 0.1152\n",
            "Epoch 11/50\n",
            "43/43 [==============================] - 6s 141ms/step - loss: 4.5790 - accuracy: 0.1378\n",
            "Epoch 12/50\n",
            "43/43 [==============================] - 8s 176ms/step - loss: 4.3301 - accuracy: 0.1538\n",
            "Epoch 13/50\n",
            "43/43 [==============================] - 6s 142ms/step - loss: 4.0996 - accuracy: 0.1808\n",
            "Epoch 14/50\n",
            "43/43 [==============================] - 10s 235ms/step - loss: 3.8537 - accuracy: 0.2004\n",
            "Epoch 15/50\n",
            "43/43 [==============================] - 10s 233ms/step - loss: 3.6185 - accuracy: 0.2434\n",
            "Epoch 16/50\n",
            "43/43 [==============================] - 7s 166ms/step - loss: 3.3818 - accuracy: 0.2821\n",
            "Epoch 17/50\n",
            "43/43 [==============================] - 8s 178ms/step - loss: 3.1601 - accuracy: 0.3214\n",
            "Epoch 18/50\n",
            "43/43 [==============================] - 6s 145ms/step - loss: 2.9485 - accuracy: 0.3681\n",
            "Epoch 19/50\n",
            "43/43 [==============================] - 8s 181ms/step - loss: 2.7375 - accuracy: 0.4424\n",
            "Epoch 20/50\n",
            "43/43 [==============================] - 6s 140ms/step - loss: 2.5317 - accuracy: 0.4913\n",
            "Epoch 21/50\n",
            "43/43 [==============================] - 12s 287ms/step - loss: 2.3385 - accuracy: 0.5430\n",
            "Epoch 22/50\n",
            "43/43 [==============================] - 8s 177ms/step - loss: 2.1626 - accuracy: 0.6093\n",
            "Epoch 23/50\n",
            "43/43 [==============================] - 6s 142ms/step - loss: 1.9804 - accuracy: 0.6684\n",
            "Epoch 24/50\n",
            "43/43 [==============================] - 7s 174ms/step - loss: 1.8146 - accuracy: 0.7143\n",
            "Epoch 25/50\n",
            "43/43 [==============================] - 9s 215ms/step - loss: 1.6615 - accuracy: 0.7413\n",
            "Epoch 26/50\n",
            "43/43 [==============================] - 6s 146ms/step - loss: 1.5125 - accuracy: 0.7966\n",
            "Epoch 27/50\n",
            "43/43 [==============================] - 8s 175ms/step - loss: 1.3807 - accuracy: 0.8294\n",
            "Epoch 28/50\n",
            "43/43 [==============================] - 6s 142ms/step - loss: 1.2578 - accuracy: 0.8564\n",
            "Epoch 29/50\n",
            "43/43 [==============================] - 8s 175ms/step - loss: 1.1456 - accuracy: 0.8681\n",
            "Epoch 30/50\n",
            "43/43 [==============================] - 6s 139ms/step - loss: 1.0477 - accuracy: 0.8965\n",
            "Epoch 31/50\n",
            "43/43 [==============================] - 8s 177ms/step - loss: 0.9553 - accuracy: 0.9089\n",
            "Epoch 32/50\n",
            "43/43 [==============================] - 6s 140ms/step - loss: 0.8787 - accuracy: 0.9249\n",
            "Epoch 33/50\n",
            "43/43 [==============================] - 8s 186ms/step - loss: 0.7994 - accuracy: 0.9300\n",
            "Epoch 34/50\n",
            "43/43 [==============================] - 6s 141ms/step - loss: 0.7251 - accuracy: 0.9453\n",
            "Epoch 35/50\n",
            "43/43 [==============================] - 8s 175ms/step - loss: 0.6678 - accuracy: 0.9541\n",
            "Epoch 36/50\n",
            "43/43 [==============================] - 6s 145ms/step - loss: 0.6124 - accuracy: 0.9585\n",
            "Epoch 37/50\n",
            "43/43 [==============================] - 8s 178ms/step - loss: 0.5623 - accuracy: 0.9621\n",
            "Epoch 38/50\n",
            "43/43 [==============================] - 6s 147ms/step - loss: 0.5170 - accuracy: 0.9657\n",
            "Epoch 39/50\n",
            "43/43 [==============================] - 8s 172ms/step - loss: 0.4772 - accuracy: 0.9694\n",
            "Epoch 40/50\n",
            "43/43 [==============================] - 7s 155ms/step - loss: 0.4408 - accuracy: 0.9745\n",
            "Epoch 41/50\n",
            "43/43 [==============================] - 7s 155ms/step - loss: 0.4100 - accuracy: 0.9745\n",
            "Epoch 42/50\n",
            "43/43 [==============================] - 7s 165ms/step - loss: 0.3802 - accuracy: 0.9745\n",
            "Epoch 43/50\n",
            "43/43 [==============================] - 6s 147ms/step - loss: 0.3519 - accuracy: 0.9810\n",
            "Epoch 44/50\n",
            "43/43 [==============================] - 8s 178ms/step - loss: 0.3319 - accuracy: 0.9789\n",
            "Epoch 45/50\n",
            "43/43 [==============================] - 6s 142ms/step - loss: 0.3069 - accuracy: 0.9796\n",
            "Epoch 46/50\n",
            "43/43 [==============================] - 8s 178ms/step - loss: 0.2853 - accuracy: 0.9840\n",
            "Epoch 47/50\n",
            "43/43 [==============================] - 6s 140ms/step - loss: 0.2683 - accuracy: 0.9854\n",
            "Epoch 48/50\n",
            "43/43 [==============================] - 7s 174ms/step - loss: 0.2521 - accuracy: 0.9840\n",
            "Epoch 49/50\n",
            "43/43 [==============================] - 6s 139ms/step - loss: 0.2376 - accuracy: 0.9840\n",
            "Epoch 50/50\n",
            "43/43 [==============================] - 8s 178ms/step - loss: 0.2235 - accuracy: 0.9825\n"
          ]
        },
        {
          "data": {
            "text/plain": [
              "<keras.src.callbacks.History at 0x7b95c7ff7ac0>"
            ]
          },
          "execution_count": 16,
          "metadata": {},
          "output_type": "execute_result"
        }
      ],
      "source": [
        "model.compile(loss='categorical_crossentropy', optimizer='adam', metrics=['accuracy'])\n",
        "model.fit(X, y, epochs=50, verbose=1)"
      ]
    },
    {
      "cell_type": "code",
      "execution_count": 17,
      "metadata": {
        "colab": {
          "base_uri": "https://localhost:8080/"
        },
        "id": "hbX7bJNy92X0",
        "outputId": "cf190507-0fc2-470d-e8b3-dec2974b6959"
      },
      "outputs": [
        {
          "name": "stderr",
          "output_type": "stream",
          "text": [
            "/usr/local/lib/python3.10/dist-packages/keras/src/engine/training.py:3079: UserWarning: You are saving your model as an HDF5 file via `model.save()`. This file format is considered legacy. We recommend using instead the native Keras format, e.g. `model.save('my_model.keras')`.\n",
            "  saving_api.save_model(\n"
          ]
        }
      ],
      "source": [
        "# After training the model\n",
        "model.save(\"word_prediction.h5\")"
      ]
    },
    {
      "cell_type": "code",
      "execution_count": 18,
      "metadata": {
        "id": "zaz-BNd5uZ2c"
      },
      "outputs": [],
      "source": [
        "def Word_Prediction(input_text,predict_next_words):\n",
        "  for _ in range(predict_next_words):\n",
        "      token_list = mytokenizer.texts_to_sequences([input_text])[0]\n",
        "      # print(token_list)\n",
        "      token_list = pad_sequences([token_list], maxlen=max_sequence_len-1, padding='pre')\n",
        "      predicted = np.argmax(model.predict(token_list), axis=-1)\n",
        "      output_word = \"\"\n",
        "      for word, index in mytokenizer.word_index.items():\n",
        "          if index == predicted:\n",
        "              output_word = word\n",
        "              break\n",
        "      input_text += \" \" + output_word\n",
        "\n",
        "  return input_text"
      ]
    },
    {
      "cell_type": "code",
      "execution_count": 19,
      "metadata": {
        "colab": {
          "base_uri": "https://localhost:8080/",
          "height": 53
        },
        "id": "m5oYW7IRu3C5",
        "outputId": "46f1d6e7-e6e9-4f40-abe6-093e2dc723ee"
      },
      "outputs": [
        {
          "name": "stdout",
          "output_type": "stream",
          "text": [
            "1/1 [==============================] - 0s 468ms/step\n"
          ]
        },
        {
          "data": {
            "application/vnd.google.colaboratory.intrinsic+json": {
              "type": "string"
            },
            "text/plain": [
              "'Good morning'"
            ]
          },
          "execution_count": 19,
          "metadata": {},
          "output_type": "execute_result"
        }
      ],
      "source": [
        "Word_Prediction(\"Good\",1)"
      ]
    },
    {
      "cell_type": "code",
      "execution_count": 59,
      "metadata": {
        "id": "ocCLdx9XD1mx"
      },
      "outputs": [],
      "source": [
        "# For the prediction you use that model multiple times"
      ]
    },
    {
      "cell_type": "code",
      "execution_count": 22,
      "metadata": {
        "id": "opSTUYnWzl1M"
      },
      "outputs": [],
      "source": [
        "import tensorflow as tf\n",
        "import os"
      ]
    },
    {
      "cell_type": "code",
      "execution_count": 25,
      "metadata": {
        "id": "weRCXZop4QoT"
      },
      "outputs": [],
      "source": [
        "from keras.models import load_model\n",
        "model = load_model(\"/content/word_prediction.h5\")"
      ]
    },
    {
      "cell_type": "code",
      "execution_count": 23,
      "metadata": {
        "id": "zx_W9-FszlCq"
      },
      "outputs": [],
      "source": [
        "# convert keras model to tflite\n",
        "def get_file_size(file_path):\n",
        "    size = os.path.getsize(file_path)\n",
        "    return size\n",
        "\n",
        "def convert_bytes(size, unit=None):\n",
        "    if unit == \"KB\":\n",
        "        return print('File size: ' + str(round(size / 1024, 3)) + ' Kilobytes')\n",
        "    elif unit == \"MB\":\n",
        "        return print('File size: ' + str(round(size / (1024 * 1024), 3)) + ' Megabytes')\n",
        "    else:\n",
        "        return print('File size: ' + str(size) + ' bytes')\n"
      ]
    },
    {
      "cell_type": "code",
      "execution_count": 31,
      "metadata": {
        "colab": {
          "base_uri": "https://localhost:8080/"
        },
        "id": "Tcqv4hIiGIhm",
        "outputId": "b0f387f6-3e30-4268-dc5f-475b591679ae"
      },
      "outputs": [
        {
          "name": "stdout",
          "output_type": "stream",
          "text": [
            "2.14.0\n"
          ]
        }
      ],
      "source": [
        "# from tensorflow.contrib import lite\n",
        "converter = tf.lite.TFLiteConverter.from_keras_model(model)\n",
        "tflite_model = converter.convert()\n",
        "file = open( 'model.tflite' , 'wb' )\n",
        "file.write( model )"
      ]
    },
    {
      "cell_type": "code",
      "execution_count": null,
      "metadata": {},
      "outputs": [],
      "source": [
        "# I am not able to convert the file in required file format because of some dependency with respect to the os"
      ]
    }
  ],
  "metadata": {
    "colab": {
      "provenance": []
    },
    "kernelspec": {
      "display_name": "Python 3",
      "name": "python3"
    },
    "language_info": {
      "name": "python"
    }
  },
  "nbformat": 4,
  "nbformat_minor": 0
}
